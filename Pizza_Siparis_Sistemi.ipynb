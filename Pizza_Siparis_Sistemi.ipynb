{
  "nbformat": 4,
  "nbformat_minor": 0,
  "metadata": {
    "colab": {
      "provenance": [],
      "toc_visible": true,
      "authorship_tag": "ABX9TyMGx/8WSb3V01zYAdz6Cg2l",
      "include_colab_link": true
    },
    "kernelspec": {
      "name": "python3",
      "display_name": "Python 3"
    },
    "language_info": {
      "name": "python"
    }
  },
  "cells": [
    {
      "cell_type": "markdown",
      "metadata": {
        "id": "view-in-github",
        "colab_type": "text"
      },
      "source": [
        "<a href=\"https://colab.research.google.com/github/DoganurTuran/DoganurTuran.github.io/blob/main/Pizza_Siparis_Sistemi.ipynb\" target=\"_parent\"><img src=\"https://colab.research.google.com/assets/colab-badge.svg\" alt=\"Open In Colab\"/></a>"
      ]
    },
    {
      "cell_type": "code",
      "source": [
        "import csv\n",
        "import datetime"
      ],
      "metadata": {
        "id": "YPiHE3eaWE0g"
      },
      "execution_count": 7,
      "outputs": []
    },
    {
      "cell_type": "code",
      "execution_count": 8,
      "metadata": {
        "id": "HqYDY8mPlN-H"
      },
      "outputs": [],
      "source": [
        "Menu = open('Menu.txt',\"w\")\n",
        "Menu.write('*Lütfen Bir Pizza Tabanı Seçiniz:\\n 1: Klasik \\n 2: Margarita \\n 3: TürkPizza \\n 4: Sade Pizza \\n *ve seçeceğiniz sos: \\n 11: Zeytin \\n 12: Mantarlar \\n 13: Keçi Peyniri \\n 14: Et \\n 15: Soğan \\n 16: Mısır \\n *Teşekkür Ederiz!'\n",
        ")\n",
        "Menu.close()\n"
      ]
    },
    {
      "cell_type": "code",
      "source": [
        "class Pizza:\n",
        "    def __init__(self, description, cost):\n",
        "        self.description = description\n",
        "        self.cost = cost\n",
        "\n",
        "    def get_description(self):\n",
        "        return self.description\n",
        "\n",
        "    def get_cost(self):\n",
        "        return self.cost\n"
      ],
      "metadata": {
        "id": "QyeH0PHtPQEx"
      },
      "execution_count": 2,
      "outputs": []
    },
    {
      "cell_type": "code",
      "source": [
        "class KlasikPizza(Pizza):\n",
        "    def __init__(self):\n",
        "        description = \"Klasik Pizza\"\n",
        "        cost = 50.0\n",
        "        super().__init__(description, cost)\n",
        "\n",
        "\n",
        "class MargheritaPizza(Pizza):\n",
        "    def __init__(self):\n",
        "        description = \"Margherita Pizza\"\n",
        "        cost = 55.0\n",
        "        super().__init__(description, cost)\n",
        "\n",
        "\n",
        "class TurkPizza(Pizza):\n",
        "    def __init__(self):\n",
        "        description = \"Türk Pizza\"\n",
        "        cost = 60.0\n",
        "        super().__init__(description, cost)\n",
        "\n",
        "\n",
        "class DominosPizza(Pizza):\n",
        "    def __init__(self):\n",
        "        description = \"Dominos Pizza\"\n",
        "        cost = 65.0\n",
        "        super().__init__(description, cost)\n"
      ],
      "metadata": {
        "id": "A_G0qdyTQHR_"
      },
      "execution_count": 9,
      "outputs": []
    },
    {
      "cell_type": "code",
      "source": [
        "class SosDecorator(Pizza):\n",
        "    def __init__(self, pizza, sos):\n",
        "        self.component = pizza\n",
        "        self.sos = sos\n",
        "\n",
        "    def get_cost(self):\n",
        "        return self.component.get_cost() + self.sos.cost\n",
        "\n",
        "    def get_description(self):\n",
        "        return self.component.get_description() + \", \" + self.sos.description + \" soslu\"\n"
      ],
      "metadata": {
        "id": "xPAw2IJfPNOy"
      },
      "execution_count": 3,
      "outputs": []
    },
    {
      "cell_type": "code",
      "source": [
        "class Zeytin:\n",
        "    def __init__(self):\n",
        "        self.description = \"Zeytin\"\n",
        "        self.cost = 2.0\n",
        "\n",
        "\n",
        "class Mantar:\n",
        "    def __init__(self):\n",
        "        self.description = \"Mantarlar\"\n",
        "        self.cost = 3.0\n",
        "\n",
        "\n",
        "class KeciPeyniri:\n",
        "    def __init__(self):\n",
        "        self.description = \"Keçi Peyniri\"\n",
        "        self.cost = 4.0\n",
        "\n",
        "\n",
        "class Et:\n",
        "    def __init__(self):\n",
        "        self.description = \"Et\"\n",
        "        self.cost = 5.0\n",
        "\n",
        "\n",
        "class Sogan:\n",
        "    def __init__(self):\n",
        "        self.description = \"Soğan\"\n",
        "        self.cost = 2.5\n",
        "\n",
        "\n",
        "class Misir:\n",
        "    def __init__(self):\n",
        "        self.description = \"Misir\"\n",
        "        self.cost = 3.0\n"
      ],
      "metadata": {
        "id": "Qfdis1eoT4cn"
      },
      "execution_count": 11,
      "outputs": []
    },
    {
      "cell_type": "markdown",
      "source": [
        "# Yeni Bölüm"
      ],
      "metadata": {
        "id": "TDvy02ER4phS"
      }
    },
    {
      "cell_type": "code",
      "source": [
        "import csv\n",
        "import datetime\n",
        "\n",
        "def add_to_database(name, tc, card_number, card_password, pizza, sauce, price):\n",
        "    date_time = datetime.datetime.now().strftime(\"%Y-%m-%d %H:%M:%S\")\n",
        "    with open('Orders_Database.csv', mode='a', newline='') as file:\n",
        "        writer = csv.writer(file)\n",
        "        writer.writerow([name, tc, card_number, card_password, pizza, sauce, price, date_time])\n"
      ],
      "metadata": {
        "id": "AFhCYFqMFhcL"
      },
      "execution_count": 12,
      "outputs": []
    },
    {
      "cell_type": "code",
      "source": [
        "def main():\n",
        "    print(\"Lütfen bir pizza ve sos seçiniz:\")\n",
        "    print(\"Pizzalar:\")\n",
        "    print(\"1: Klasik\\n2: Margarita\\n3: TürkPizza\\n4: Sade Pizza\")\n",
        "    pizza_choice = int(input(\"Pizza seçiminiz (1-4): \"))\n",
        "    \n",
        "    if pizza_choice == 1:\n",
        "        pizza = KlasikPizza()\n",
        "    elif pizza_choice == 2:\n",
        "        pizza = MargheritaPizza()\n",
        "    elif pizza_choice == 3:\n",
        "        pizza = TurkPizza()\n",
        "    elif pizza_choice == 4:\n",
        "        pizza = DominosPizza()\n",
        "    else:\n",
        "        print(\"Geçersiz seçim. Program sonlandırılıyor.\")\n",
        "        return\n",
        "    \n",
        "    print(\"\\nSoslar:\")\n",
        "    print(\"11: Zeytin\\n12: Mantarlar\\n13: Keçi Peyniri\\n14: Et\\n15: Soğan\\n16: Mısır\")\n",
        "    sauce_choice = int(input(\"Sos seçiminiz (11-16): \"))\n",
        "    \n",
        "    if sauce_choice == 11:\n",
        "        pizza_with_sauce = Zeytin(pizza)\n",
        "    elif sauce_choice == 12:\n",
        "        pizza_with_sauce = Mantar(pizza)\n",
        "    elif sauce_choice == 13:\n",
        "        pizza_with_sauce = KeciPeyniri(pizza)\n",
        "    elif sauce_choice == 14:\n",
        "        pizza_with_sauce = Et(pizza)\n",
        "    elif sauce_choice == 15:\n",
        "        pizza_with_sauce = Sogan(pizza)\n",
        "    elif sauce_choice == 16:\n",
        "        pizza_with_sauce = Misir(pizza)\n",
        "    else:\n",
        "        print(\"Geçersiz seçim. Program sonlandırılıyor.\")\n",
        "        return\n",
        "    \n",
        "    print(\"\\nSipariş özeti:\")\n",
        "    print(pizza_with_sauce.get_description())\n",
        "    price = pizza_with_sauce.get_cost()\n",
        "    print(\"Toplam fiyat: {} TL\".format(price))\n",
        "    \n",
        "    name = input(\"\\nİsim: \")\n",
        "    tc = input(\"TC Kimlik Numarası: \")\n",
        "    card_number = input(\"Kredi Kartı Numarası: \")\n",
        "    card_password = input(\"Kredi Kartı Şifresi: \")\n",
        "    \n",
        "    add_to_database(name, tc, card_number, card_password, pizza_with_sauce.get_description(), pizza_with_sauce.get_sauce(), price)"
      ],
      "metadata": {
        "id": "Me86C4J9IZEL"
      },
      "execution_count": 13,
      "outputs": []
    }
  ]
}